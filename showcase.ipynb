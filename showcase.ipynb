{
 "cells": [
  {
   "cell_type": "markdown",
   "metadata": {},
   "source": [
    "# Showcase Of Funcionality\n",
    "\n",
    "This notebook contains some examples of the features of this project, with explanations in between code cells. For an overview of the terminology used in this notebook, see the [README](README.md)"
   ]
  },
  {
   "cell_type": "markdown",
   "metadata": {},
   "source": [
    "## Imports"
   ]
  },
  {
   "cell_type": "code",
   "execution_count": 1,
   "metadata": {},
   "outputs": [],
   "source": [
    "from src.group import Group"
   ]
  },
  {
   "cell_type": "markdown",
   "metadata": {},
   "source": [
    "## Defining a group\n",
    "\n",
    "We can define a group by equivalent representations. We can say that `\"H2\"` (which is short for `\"HH\"`), or `\"H\"` composed with itself, is equivalent to the identity, and that composing `\"H\"` with `\"R\"` is the same as composing `\"R\"` with itself, and then with `\"H\"`. The rest of the structure of the group follows from just these statements, and is inferred in the initialisation of the `Group` object. In group theory, this group is called the dihedral group of order 6, or D6. (Or, frustratingly, sometimes it's called D3, depending on the resource. You would think mathematicians of all people would agree on a consistent notation but no.)"
   ]
  },
  {
   "cell_type": "code",
   "execution_count": 3,
   "metadata": {},
   "outputs": [
    {
     "data": {
      "text/plain": [
       "Group with name: D6\n",
       "\n",
       "Sinks:\n",
       "['e', 'H', 'r', 'Hr', 'rH', 'r2']\n",
       "\n",
       "Prime reductibles:\n",
       "H2 -> e\n",
       "HrH -> r2\n",
       "Hr2 -> rH\n",
       "rHr -> H\n",
       "r2H -> Hr\n",
       "r3 -> e\n",
       "R -> r2\n",
       "h -> H\n",
       "\n",
       "Complete"
      ]
     },
     "execution_count": 3,
     "metadata": {},
     "output_type": "execute_result"
    }
   ],
   "source": [
    "D6 = Group([[\"H2\", \"r3\", \"e\"], [\"Hr\", \"rrH\"]], \"D6\")\n",
    "D6"
   ]
  },
  {
   "cell_type": "markdown",
   "metadata": {},
   "source": [
    "## Step by step\n",
    "\n",
    "To see how this works step by step, we can first create a blank `Group` object:"
   ]
  },
  {
   "cell_type": "code",
   "execution_count": 5,
   "metadata": {},
   "outputs": [
    {
     "data": {
      "text/plain": [
       "Group with name: D6 (eventually)\n",
       "\n",
       "Sinks:\n",
       "['e']\n",
       "\n",
       "Prime reductibles:\n",
       "\n",
       "\n",
       "Complete (trivially)"
      ]
     },
     "execution_count": 5,
     "metadata": {},
     "output_type": "execute_result"
    }
   ],
   "source": [
    "D6_eventually = Group(name = \"D6 (eventually)\")\n",
    "D6_eventually"
   ]
  },
  {
   "cell_type": "markdown",
   "metadata": {},
   "source": [
    "This can already be considered a group with complete structure, and is called the trivial group in group theory, containing just an identity element."
   ]
  },
  {
   "cell_type": "markdown",
   "metadata": {},
   "source": [
    "### Adding more information\n",
    "We can then call this object as a function with any number of arguments, all of which should be strings that we want to be representations of the same group element:"
   ]
  },
  {
   "cell_type": "code",
   "execution_count": 6,
   "metadata": {},
   "outputs": [
    {
     "name": "stdout",
     "output_type": "stream",
     "text": [
      "Most reduced: e\n",
      "Group with name: D6 (eventually)\n",
      "\n",
      "Sinks:\n",
      "['e']\n",
      "\n",
      "Prime reductibles:\n",
      "H2 -> e\n",
      "Hh -> e\n",
      "hH -> e\n",
      "\n",
      "Incomplete, missing H\n"
     ]
    }
   ],
   "source": [
    "D6_eventually(\"H2\", \"e\")"
   ]
  },
  {
   "cell_type": "markdown",
   "metadata": {},
   "source": [
    "This is a good moment to explain the printed information. The above print statement is printed automatically when we call a group object as a function. It prints the most reduced representation (sink) of the element we've provided representations for, and then information on the group as a whole:\n",
    "- We have named the group D6 (the dihedral group of order 6), because this is the group we'll define for this example.\n",
    "- Currently the only established sink state is the identity.\n",
    "- We know we can reduce `\"H2\"` to `\"e\"`.\n",
    "- Finally we haven't fully inferred the structure of the group, because for the identity element (currently the only sink), we haven't defined its image over `\"H\"` and `\"r\"` yet."
   ]
  },
  {
   "cell_type": "markdown",
   "metadata": {},
   "source": [
    "### Adding even more information\n",
    "We now know when we can reduce strings of just `\"H\"` or just `\"r\"`, but we haven't defined how `\"H\"` and `\"r\"` interact yet.\n",
    "\n",
    "We will now process the equivalence of `\"Hr\"` to `\"rrH\"`."
   ]
  },
  {
   "cell_type": "code",
   "execution_count": 7,
   "metadata": {},
   "outputs": [
    {
     "name": "stdout",
     "output_type": "stream",
     "text": [
      "Most reduced: Hr\n",
      "Group with name: D6 (eventually)\n",
      "\n",
      "Sinks:\n",
      "['e', 'Hr']\n",
      "\n",
      "Prime reductibles:\n",
      "H2 -> e\n",
      "r2H -> Hr\n",
      "Hh -> e\n",
      "Rr -> e\n",
      "hH -> e\n",
      "rR -> e\n",
      "\n",
      "Incomplete, missing H\n"
     ]
    }
   ],
   "source": [
    "D6_eventually(\"Hr\", \"rrH\")"
   ]
  },
  {
   "cell_type": "markdown",
   "metadata": {},
   "source": [
    "### Combining the information\n",
    "We now have more information, but still we have not inferred the full structure. In order to get there, we will add all combinations of prime reductibles:"
   ]
  },
  {
   "cell_type": "code",
   "execution_count": 8,
   "metadata": {},
   "outputs": [
    {
     "data": {
      "text/plain": [
       "Group with name: D6 (eventually)\n",
       "\n",
       "Sinks:\n",
       "['e', 'H', 'r', 'Hr', 'rH', 'r2']\n",
       "\n",
       "Prime reductibles:\n",
       "H2 -> e\n",
       "HrH -> r2\n",
       "Hr2 -> rH\n",
       "rHr -> H\n",
       "r2H -> Hr\n",
       "r3 -> e\n",
       "R -> r2\n",
       "h -> H\n",
       "\n",
       "Complete"
      ]
     },
     "execution_count": 8,
     "metadata": {},
     "output_type": "execute_result"
    }
   ],
   "source": [
    "D6_eventually.integrate_combined_prime_reductibles()\n",
    "D6_eventually"
   ]
  },
  {
   "cell_type": "markdown",
   "metadata": {},
   "source": [
    "We now have a complete set of the elements in D6, with completely established structure. You may have noticed that we didn't explicitly state the rule that `\"r3\"` is equivalent to `\"e\"`, but in fact this logically follows from the other rules, which the program has figured out."
   ]
  },
  {
   "cell_type": "markdown",
   "metadata": {},
   "source": [
    "## A more complicated example\n",
    "\n",
    "Let's make it a bit harder now, and see if we can find the group structure of the quasi-dihedral group of order 16, step by step."
   ]
  },
  {
   "cell_type": "code",
   "execution_count": 9,
   "metadata": {},
   "outputs": [],
   "source": [
    "QD16_eventually = Group(name = \"QD16 (eventually)\")"
   ]
  },
  {
   "cell_type": "code",
   "execution_count": 10,
   "metadata": {},
   "outputs": [
    {
     "name": "stdout",
     "output_type": "stream",
     "text": [
      "Most reduced: e\n",
      "Group with name: QD16 (eventually)\n",
      "\n",
      "Sinks:\n",
      "['e']\n",
      "\n",
      "Prime reductibles:\n",
      "H2 -> e\n",
      "Hh -> e\n",
      "hH -> e\n",
      "\n",
      "Incomplete, missing H\n"
     ]
    }
   ],
   "source": [
    "QD16_eventually(\"H2\", \"e\")"
   ]
  },
  {
   "cell_type": "code",
   "execution_count": 11,
   "metadata": {},
   "outputs": [
    {
     "name": "stdout",
     "output_type": "stream",
     "text": [
      "Most reduced: Hr\n",
      "Group with name: QD16 (eventually)\n",
      "\n",
      "Sinks:\n",
      "['e', 'Hr']\n",
      "\n",
      "Prime reductibles:\n",
      "H2 -> e\n",
      "r3H -> Hr\n",
      "Hh -> e\n",
      "Rr -> e\n",
      "hH -> e\n",
      "rR -> e\n",
      "\n",
      "Incomplete, missing H\n"
     ]
    }
   ],
   "source": [
    "QD16_eventually(\"Hr\", \"r3H\")"
   ]
  },
  {
   "cell_type": "code",
   "execution_count": 12,
   "metadata": {},
   "outputs": [
    {
     "data": {
      "text/plain": [
       "Group with name: QD16 (eventually)\n",
       "\n",
       "Sinks:\n",
       "['e', 'H', 'r', 'Hr', 'rH', 'r2', 'HrH', 'Hr2', 'rHr', 'r2H', 'HrHr', 'Hr2H', 'rHr2', 'r2Hr', 'HrHr2', 'Hr2Hr']\n",
       "\n",
       "Prime reductibles:\n",
       "H2 -> e\n",
       "r3 -> HrH\n",
       "rHrH -> HrHr\n",
       "rHr2H -> Hr2Hr\n",
       "r2Hr2 -> H\n",
       "R -> Hr2Hr\n",
       "h -> H\n",
       "\n",
       "Complete"
      ]
     },
     "execution_count": 12,
     "metadata": {},
     "output_type": "execute_result"
    }
   ],
   "source": [
    "QD16_eventually.integrate_combined_prime_reductibles()\n",
    "QD16_eventually"
   ]
  },
  {
   "cell_type": "markdown",
   "metadata": {},
   "source": [
    "### Filling in the gaps\n",
    "This time, combining the established equivalences was not enough to infer the complete structure of the group. As we can see, we have a sink `\"HrH\"`, for which we haven't established the image for `\"H\"` yet. We can do this by filling in the gaps in the images for all sinks and generator characters."
   ]
  },
  {
   "cell_type": "code",
   "execution_count": 13,
   "metadata": {},
   "outputs": [
    {
     "data": {
      "text/plain": [
       "Group with name: QD16 (eventually)\n",
       "\n",
       "Sinks:\n",
       "['e', 'H', 'r', 'Hr', 'rH', 'r2', 'HrH', 'Hr2', 'rHr', 'r2H', 'HrHr', 'Hr2H', 'rHr2', 'r2Hr', 'HrHr2', 'Hr2Hr']\n",
       "\n",
       "Prime reductibles:\n",
       "H2 -> e\n",
       "r3 -> HrH\n",
       "rHrH -> HrHr\n",
       "rHr2H -> Hr2Hr\n",
       "r2Hr2 -> H\n",
       "R -> Hr2Hr\n",
       "h -> H\n",
       "\n",
       "Complete"
      ]
     },
     "execution_count": 13,
     "metadata": {},
     "output_type": "execute_result"
    }
   ],
   "source": [
    "QD16_eventually.fill_in_gaps()\n",
    "QD16_eventually"
   ]
  },
  {
   "cell_type": "markdown",
   "metadata": {},
   "source": [
    "Now we can see our group is complete. All of these steps happen in the same order when we provide the information upon initialisation, as demonstrated below."
   ]
  },
  {
   "cell_type": "code",
   "execution_count": 14,
   "metadata": {},
   "outputs": [
    {
     "data": {
      "text/plain": [
       "Group with name: QD16\n",
       "\n",
       "Sinks:\n",
       "['e', 'H', 'r', 'Hr', 'rH', 'r2', 'HrH', 'Hr2', 'rHr', 'r2H', 'HrHr', 'Hr2H', 'rHr2', 'r2Hr', 'HrHr2', 'Hr2Hr']\n",
       "\n",
       "Prime reductibles:\n",
       "H2 -> e\n",
       "r3 -> HrH\n",
       "rHrH -> HrHr\n",
       "rHr2H -> Hr2Hr\n",
       "r2Hr2 -> H\n",
       "R -> Hr2Hr\n",
       "h -> H\n",
       "\n",
       "Complete"
      ]
     },
     "execution_count": 14,
     "metadata": {},
     "output_type": "execute_result"
    }
   ],
   "source": [
    "Group([[\"H2\", \"e\"], [\"Hr\", \"r3H\"]], \"QD16\")"
   ]
  },
  {
   "cell_type": "markdown",
   "metadata": {},
   "source": [
    "## Does this never get stuck in loops for weird inputs?\n",
    "\n",
    "It very much does. Let's try an example:"
   ]
  },
  {
   "cell_type": "code",
   "execution_count": 15,
   "metadata": {},
   "outputs": [
    {
     "name": "stdout",
     "output_type": "stream",
     "text": [
      "Most reduced: e\n",
      "Group with name: unnamed\n",
      "\n",
      "Sinks:\n",
      "['e']\n",
      "\n",
      "Prime reductibles:\n",
      "H2 -> e\n",
      "r2 -> e\n",
      "Hh -> e\n",
      "Rr -> e\n",
      "hH -> e\n",
      "rR -> e\n",
      "\n",
      "Incomplete, missing H\n"
     ]
    }
   ],
   "source": [
    "g = Group()\n",
    "g(\"H2\", \"r2\", \"\")"
   ]
  },
  {
   "cell_type": "code",
   "execution_count": 16,
   "metadata": {},
   "outputs": [
    {
     "data": {
      "text/plain": [
       "Group with name: unnamed\n",
       "\n",
       "Sinks:\n",
       "['e', 'H', 'r']\n",
       "\n",
       "Prime reductibles:\n",
       "H2 -> e\n",
       "r2 -> e\n",
       "R -> r\n",
       "h -> H\n",
       "\n",
       "Incomplete, missing Hr"
      ]
     },
     "execution_count": 16,
     "metadata": {},
     "output_type": "execute_result"
    }
   ],
   "source": [
    "g.integrate_combined_prime_reductibles()\n",
    "g"
   ]
  },
  {
   "cell_type": "markdown",
   "metadata": {},
   "source": [
    "So far so good, but we haven't added any information on how to reduce compositions of `\"H\"` and `\"r\"`. We could have strings of alternating `\"HrHrHrHr...\"` and never have any way to reduce them. When we try to fill the gaps in the structure of our `Group` object, we create new sinks with incomplete images we need to fill, and but then to fill those we need to create even more sinks, which will also have incomplete images......"
   ]
  },
  {
   "cell_type": "code",
   "execution_count": 17,
   "metadata": {},
   "outputs": [
    {
     "name": "stdout",
     "output_type": "stream",
     "text": [
      "Too many sinks\n"
     ]
    }
   ],
   "source": [
    "try:\n",
    "    g.fill_in_gaps()\n",
    "except MemoryError as e:\n",
    "    print(e)"
   ]
  },
  {
   "cell_type": "markdown",
   "metadata": {},
   "source": [
    "To avoid an infinite loop, the program automatically aborts when the number of sinks passes a predefined limit (by default 50, but this can be changed by passing it as an argument to the initliasation of the group)."
   ]
  },
  {
   "cell_type": "markdown",
   "metadata": {},
   "source": [
    "## Some more examples of groups"
   ]
  },
  {
   "cell_type": "markdown",
   "metadata": {},
   "source": [
    "### C12\n",
    "The cyclic group of order 12 has only one generator character. This group can represent the hours on the clock, the musical intervals possible in western music (assuming octave equivalence), or simply the integers mod 12 with addition."
   ]
  },
  {
   "cell_type": "code",
   "execution_count": 18,
   "metadata": {},
   "outputs": [
    {
     "data": {
      "text/plain": [
       "Group with name: C12\n",
       "\n",
       "Sinks:\n",
       "['e', 'R', 'R2', 'R3', 'R4', 'R5', 'R6', 'R7', 'R8', 'R9', 'R10', 'R11']\n",
       "\n",
       "Prime reductibles:\n",
       "R12 -> e\n",
       "r -> R11\n",
       "\n",
       "Complete"
      ]
     },
     "execution_count": 18,
     "metadata": {},
     "output_type": "execute_result"
    }
   ],
   "source": [
    "Group([[\"R12\", \"e\"]], \"C12\")"
   ]
  },
  {
   "cell_type": "markdown",
   "metadata": {},
   "source": [
    "### D6, again, and I don't even find it that interesting\n",
    "But this time, we define it using inverses. The program interprets any two characters with opposite cases as inverses of each other. So `\"rR\"` -> `\"e\"` and similarly `\"Rr\"` -> `\"e\"`."
   ]
  },
  {
   "cell_type": "code",
   "execution_count": 19,
   "metadata": {},
   "outputs": [
    {
     "data": {
      "text/plain": [
       "Group with name: D6\n",
       "\n",
       "Sinks:\n",
       "['e', 'H', 'r', 'Hr', 'rH', 'r2']\n",
       "\n",
       "Prime reductibles:\n",
       "H2 -> e\n",
       "HrH -> r2\n",
       "Hr2 -> rH\n",
       "rHr -> H\n",
       "r2H -> Hr\n",
       "r3 -> e\n",
       "R -> r2\n",
       "h -> H\n",
       "\n",
       "Complete"
      ]
     },
     "execution_count": 19,
     "metadata": {},
     "output_type": "execute_result"
    }
   ],
   "source": [
    "Group([[\"H2\", \"r3\", \"e\"], [\"Hr\", \"RH\"]], \"D6\")"
   ]
  },
  {
   "cell_type": "markdown",
   "metadata": {},
   "source": [
    "This kind of clutters the prime reductibles, but is no less correct."
   ]
  },
  {
   "cell_type": "markdown",
   "metadata": {},
   "source": [
    "### D6 last time I promise\n",
    "But this time slightly differently defined again, just to give a taste of the versitality of the program."
   ]
  },
  {
   "cell_type": "code",
   "execution_count": 20,
   "metadata": {},
   "outputs": [
    {
     "data": {
      "text/plain": [
       "Group with name: unnamed\n",
       "\n",
       "Sinks:\n",
       "['e', 'H', 'r', 'Hr', 'rH', 'r2']\n",
       "\n",
       "Prime reductibles:\n",
       "H2 -> e\n",
       "HrH -> r2\n",
       "Hr2 -> rH\n",
       "rHr -> H\n",
       "r2H -> Hr\n",
       "r3 -> e\n",
       "R -> r2\n",
       "h -> H\n",
       "\n",
       "Complete"
      ]
     },
     "execution_count": 20,
     "metadata": {},
     "output_type": "execute_result"
    }
   ],
   "source": [
    "Group([[\"H2\", \"r3\", \"e\"], [\"rHr\", \"H\"]])"
   ]
  },
  {
   "cell_type": "markdown",
   "metadata": {},
   "source": [
    "### Whatever you wanna call this bad boy\n",
    "It may or may not be isomorphic to D6, exercise for the reader."
   ]
  },
  {
   "cell_type": "code",
   "execution_count": 21,
   "metadata": {},
   "outputs": [
    {
     "data": {
      "text/plain": [
       "Group with name: D6-ish\n",
       "\n",
       "Sinks:\n",
       "['e', 'H', 'R', 'HR', 'RH', 'HRH']\n",
       "\n",
       "Prime reductibles:\n",
       "H2 -> e\n",
       "R2 -> e\n",
       "RHR -> HRH\n",
       "h -> H\n",
       "r -> R\n",
       "\n",
       "Complete"
      ]
     },
     "execution_count": 21,
     "metadata": {},
     "output_type": "execute_result"
    }
   ],
   "source": [
    "Group([[\"H2\", \"R2\", \"e\"], [\"HRH\", \"RHR\"]], \"D6-ish\")"
   ]
  }
 ],
 "metadata": {
  "kernelspec": {
   "display_name": "tokikalama",
   "language": "python",
   "name": "python3"
  },
  "language_info": {
   "codemirror_mode": {
    "name": "ipython",
    "version": 3
   },
   "file_extension": ".py",
   "mimetype": "text/x-python",
   "name": "python",
   "nbconvert_exporter": "python",
   "pygments_lexer": "ipython3",
   "version": "3.12.2"
  }
 },
 "nbformat": 4,
 "nbformat_minor": 2
}
